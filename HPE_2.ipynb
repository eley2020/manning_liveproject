{
  "nbformat": 4,
  "nbformat_minor": 0,
  "metadata": {
    "colab": {
      "name": "HPE-2.ipynb",
      "provenance": [],
      "authorship_tag": "ABX9TyNMHFLIRYR/zfsmaDO4tZxw",
      "include_colab_link": true
    },
    "kernelspec": {
      "name": "python3",
      "display_name": "Python 3"
    },
    "accelerator": "GPU"
  },
  "cells": [
    {
      "cell_type": "markdown",
      "metadata": {
        "id": "view-in-github",
        "colab_type": "text"
      },
      "source": [
        "<a href=\"https://colab.research.google.com/github/eley2020/manning_liveproject/blob/master/HPE_2.ipynb\" target=\"_parent\"><img src=\"https://colab.research.google.com/assets/colab-badge.svg\" alt=\"Open In Colab\"/></a>"
      ]
    },
    {
      "cell_type": "code",
      "metadata": {
        "id": "4q2LUCmQRAKd",
        "colab_type": "code",
        "outputId": "7c22fe10-738b-4a64-9bab-b3dca8530e2d",
        "colab": {
          "base_uri": "https://localhost:8080/",
          "height": 413
        }
      },
      "source": [
        "!wget http://ufldl.stanford.edu/housenumbers/train_32x32.mat\n",
        "!wget http://ufldl.stanford.edu/housenumbers/test_32x32.mat"
      ],
      "execution_count": 6,
      "outputs": [
        {
          "output_type": "stream",
          "text": [
            "--2020-05-28 07:58:59--  http://ufldl.stanford.edu/housenumbers/train_32x32.mat\n",
            "Resolving ufldl.stanford.edu (ufldl.stanford.edu)... 171.64.68.10\n",
            "Connecting to ufldl.stanford.edu (ufldl.stanford.edu)|171.64.68.10|:80... connected.\n",
            "HTTP request sent, awaiting response... 200 OK\n",
            "Length: 182040794 (174M) [text/plain]\n",
            "Saving to: ‘train_32x32.mat’\n",
            "\n",
            "train_32x32.mat     100%[===================>] 173.61M  19.9MB/s    in 11s     \n",
            "\n",
            "2020-05-28 07:59:11 (15.1 MB/s) - ‘train_32x32.mat’ saved [182040794/182040794]\n",
            "\n",
            "--2020-05-28 07:59:13--  http://ufldl.stanford.edu/housenumbers/test_32x32.mat\n",
            "Resolving ufldl.stanford.edu (ufldl.stanford.edu)... 171.64.68.10\n",
            "Connecting to ufldl.stanford.edu (ufldl.stanford.edu)|171.64.68.10|:80... connected.\n",
            "HTTP request sent, awaiting response... 200 OK\n",
            "Length: 64275384 (61M) [text/plain]\n",
            "Saving to: ‘test_32x32.mat’\n",
            "\n",
            "test_32x32.mat      100%[===================>]  61.30M  15.5MB/s    in 6.4s    \n",
            "\n",
            "2020-05-28 07:59:19 (9.60 MB/s) - ‘test_32x32.mat’ saved [64275384/64275384]\n",
            "\n"
          ],
          "name": "stdout"
        }
      ]
    },
    {
      "cell_type": "code",
      "metadata": {
        "id": "treWshzuSMkp",
        "colab_type": "code",
        "colab": {}
      },
      "source": [
        "import os\n",
        "import torch\n",
        "import pandas as pd\n",
        "from skimage import io, transform\n",
        "import numpy as np\n",
        "import matplotlib.pyplot as plt\n",
        "from torch.utils.data import Dataset, DataLoader\n",
        "from torchvision import transforms, utils\n",
        "\n",
        "from scipy.io import loadmat\n",
        "from matplotlib.pyplot import imshow"
      ],
      "execution_count": 0,
      "outputs": []
    },
    {
      "cell_type": "code",
      "metadata": {
        "id": "TpYoLKsHSRix",
        "colab_type": "code",
        "colab": {}
      },
      "source": [
        "from torch.utils.data import Dataset\n",
        "class SVHN_dataset(Dataset):\n",
        "\n",
        "    def __init__(self, data):\n",
        "        # Transform data to Torch Tensors\n",
        "        self.images = torch.tensor(data['X']).permute([3,2,0,1])\n",
        "        self.labels = torch.tensor(data['y'])\n",
        "        self.size = self.labels.shape[0]\n",
        "\n",
        "        # replace label 10 with label 0\n",
        "        self.labels[np.where(self.labels == 10)] = 0\n",
        "\n",
        "        # convert to float and normalize images to 0..1 range\n",
        "        self.images = self.images.to(dtype=torch.float)\n",
        "        self.images = self.images / 255.0\n",
        "\n",
        "        self.labels = self.labels.to(dtype=torch.long)\n",
        "\n",
        "\n",
        "    \n",
        "    def __len__(self):\n",
        "        return self.size\n",
        "\n",
        "    def __getitem__(self, idx):\n",
        "        return self.images[idx], self.labels[idx]"
      ],
      "execution_count": 0,
      "outputs": []
    },
    {
      "cell_type": "code",
      "metadata": {
        "id": "uPVAprAcSTXY",
        "colab_type": "code",
        "colab": {}
      },
      "source": [
        "train_data = loadmat('train_32x32.mat')\n",
        "test_data = loadmat('test_32x32.mat')\n",
        "X = train_data['X']\n",
        "y = train_data['y']\n",
        "y[y==10]=0"
      ],
      "execution_count": 0,
      "outputs": []
    },
    {
      "cell_type": "code",
      "metadata": {
        "id": "TuhOu13bTIQI",
        "colab_type": "code",
        "colab": {}
      },
      "source": [
        "train_dataset = SVHN_dataset(train_data)\n",
        "test_dataset = SVHN_dataset(test_data)"
      ],
      "execution_count": 0,
      "outputs": []
    },
    {
      "cell_type": "code",
      "metadata": {
        "id": "Gh28tXtPTVti",
        "colab_type": "code",
        "colab": {
          "base_uri": "https://localhost:8080/",
          "height": 53
        },
        "outputId": "94fe5eda-1eff-4de5-9b1e-85fdb413012e"
      },
      "source": [
        "print(\"images range [\", train_dataset.images.min(),\",\", train_dataset.images.max(),\"]\",train_dataset.images.shape)\n",
        "print(\"labels\",train_dataset.labels.unique())"
      ],
      "execution_count": 11,
      "outputs": [
        {
          "output_type": "stream",
          "text": [
            "images range [ tensor(0.) , tensor(1.) ] torch.Size([73257, 3, 32, 32])\n",
            "labels tensor([0, 1, 2, 3, 4, 5, 6, 7, 8, 9])\n"
          ],
          "name": "stdout"
        }
      ]
    },
    {
      "cell_type": "code",
      "metadata": {
        "id": "EZlV-yJMTgK5",
        "colab_type": "code",
        "colab": {}
      },
      "source": [
        "import torch.nn as nn\n",
        "import torch.nn.functional as F"
      ],
      "execution_count": 0,
      "outputs": []
    },
    {
      "cell_type": "code",
      "metadata": {
        "id": "ybNzCqYmThvx",
        "colab_type": "code",
        "colab": {}
      },
      "source": [
        "class Net(nn.Module):\n",
        "    def __init__(self):\n",
        "        super(Net, self).__init__()\n",
        "        #block\n",
        "        self.conv_1 = nn.Conv2d(in_channels = 3, out_channels=6,kernel_size=5,stride=1,padding=2)\n",
        "        #nn.init.normal_(self.conv_1.weight, std=0.001)\n",
        "        #nn.init.constant_(self.conv_1.bias,0)\n",
        "        self.batch_norm_1 = nn.BatchNorm2d(6) # same as out_channels before layer \n",
        "        self.relu_1 = nn.ReLU()\n",
        "        self.pool_1 = nn.MaxPool2d(2, 2)\n",
        "\n",
        "\n",
        "        self.conv_2 = nn.Conv2d(in_channels = 6, out_channels=12,kernel_size=3,stride=1,padding=1)\n",
        "        #nn.init.normal_(self.conv_2.weight, std=0.001)\n",
        "        #nn.init.constant_(self.conv_2.bias,0)\n",
        "        self.batch_norm_2 = nn.BatchNorm2d(12) # same as out_channels before layer \n",
        "        self.relu_2 = nn.ReLU()\n",
        "        self.pool_2 = nn.MaxPool2d(2, 2)\n",
        "\n",
        "        self.conv_3 = nn.Conv2d(in_channels= 12, out_channels=24,kernel_size=3,stride=1,padding=1)\n",
        "        #nn.init.normal_(self.conv_3.weight, std=0.001)\n",
        "        #nn.init.constant_(self.conv_3.bias,0)\n",
        "        self.batch_norm_3 = nn.BatchNorm2d(24) # same as out_channels before layer \n",
        "        self.relu_3 = nn.ReLU()\n",
        "        self.pool_3 = nn.MaxPool2d(2, 2)\n",
        "\n",
        "        self.fc1 = nn.Linear(24 * 4 * 4, 10)# 24 chans x 32//(2*2*2)\n",
        "        #nn.init.normal_(self.fc1.weight, std=0.001)\n",
        "        #nn.init.constant_(self.fc1.bias,0)\n",
        "\n",
        "    def forward(self, x):\n",
        "        x = self.conv_1(x)\n",
        "        x = self.batch_norm_1(x)\n",
        "        x = self.relu_1(x)\n",
        "        x = self.pool_1(x)\n",
        "\n",
        "        x = self.conv_2(x)\n",
        "        x = self.batch_norm_2(x)\n",
        "        x = self.relu_2(x)\n",
        "        x = self.pool_2(x)\n",
        "\n",
        "        x = self.conv_3(x)\n",
        "        x = self.batch_norm_3(x)\n",
        "        x = self.relu_3(x)\n",
        "        x = self.pool_3(x)\n",
        "\n",
        "        x = x.view(-1, 24 * 4 * 4)\n",
        "        #x = F.relu(self.fc1(x))\n",
        "        #x = F.relu(self.fc2(x))\n",
        "        x = self.fc1(x)\n",
        "        return x\n",
        "\n",
        "\n",
        "\n",
        "net = Net()"
      ],
      "execution_count": 0,
      "outputs": []
    },
    {
      "cell_type": "code",
      "metadata": {
        "id": "112mb5m6Tpjs",
        "colab_type": "code",
        "colab": {
          "base_uri": "https://localhost:8080/",
          "height": 35
        },
        "outputId": "3197ef4c-1a98-4a4b-b782-17a3a5dc7f39"
      },
      "source": [
        "# import torchvision\n",
        "\"\"\"\n",
        "trainset = torchvision.datasets.CIFAR10(root='./data', train=False, download=True)\n",
        "trainloader = torch.utils.data.DataLoader(trainset, batch_size=4, shuffle=True, num_workers=2)\n",
        "\"\"\""
      ],
      "execution_count": 14,
      "outputs": [
        {
          "output_type": "execute_result",
          "data": {
            "text/plain": [
              "\"\\ntrainset = torchvision.datasets.CIFAR10(root='./data', train=False, download=True)\\ntrainloader = torch.utils.data.DataLoader(trainset, batch_size=4, shuffle=True, num_workers=2)\\n\""
            ]
          },
          "metadata": {
            "tags": []
          },
          "execution_count": 14
        }
      ]
    },
    {
      "cell_type": "code",
      "metadata": {
        "id": "YHxYziI_T2Qj",
        "colab_type": "code",
        "colab": {
          "base_uri": "https://localhost:8080/",
          "height": 35
        },
        "outputId": "cf565d25-19fc-4d72-beba-1be1bf540355"
      },
      "source": [
        "import torch.optim as optim\n",
        "\n",
        "criterion = nn.CrossEntropyLoss()\n",
        "optimizer = optim.Adam(net.parameters(),lr=0.01) # ,lr=0.001 #optim.SGD(net.parameters(), lr=0.001, momentum=0.9)\n",
        "\n",
        "trainloader = torch.utils.data.DataLoader(train_dataset, batch_size=256,\n",
        "                                          shuffle=True, num_workers=2)\n",
        "\n",
        "testloader = torch.utils.data.DataLoader(test_dataset, batch_size=256,\n",
        "                                          shuffle=False, num_workers=2)\n",
        "\n",
        "\"\"\"\n",
        "trainloader.dataset.labels\n",
        "\"\"\""
      ],
      "execution_count": 15,
      "outputs": [
        {
          "output_type": "execute_result",
          "data": {
            "text/plain": [
              "'\\ntrainloader.dataset.labels\\n'"
            ]
          },
          "metadata": {
            "tags": []
          },
          "execution_count": 15
        }
      ]
    },
    {
      "cell_type": "code",
      "metadata": {
        "id": "d30cFZxAT4Nz",
        "colab_type": "code",
        "colab": {}
      },
      "source": [
        "def get_accuracy(model, dataloader):\n",
        "\n",
        "    model.eval()\n",
        "    # TODO: calculate accuracy\n",
        "    acc = 0\n",
        "    count = 0\n",
        "    for i, data in enumerate(dataloader, 0):\n",
        "      inputs, labels = data\n",
        "      labels = labels.squeeze()\n",
        "      inputs = inputs.cuda()\n",
        "      labels = labels.cuda()\n",
        "      \n",
        "      outputs = net(inputs)\n",
        "      predicted = torch.argmax(outputs, dim=1)\n",
        "      #print(predicted, labels)\n",
        "      acc = acc + (predicted == labels).sum()\n",
        "      count = count + labels.shape[0]\n",
        "    #print(\"AC\",acc,count)\n",
        "    acc = acc.to(torch.float)\n",
        "    \n",
        "    if count >0:\n",
        "      accuracy = acc/count\n",
        "    else:\n",
        "      accuracy = 0\n",
        "    #outputs = net(inputs)\n",
        "    model.train()\n",
        "    \n",
        "    return accuracy"
      ],
      "execution_count": 0,
      "outputs": []
    },
    {
      "cell_type": "code",
      "metadata": {
        "id": "GS8RyCZJT74b",
        "colab_type": "code",
        "colab": {
          "base_uri": "https://localhost:8080/",
          "height": 1000
        },
        "outputId": "2214a997-9cb0-4856-a29b-3bbe46f9c1ec"
      },
      "source": [
        "print(\"device\",\"cuda\" if torch.cuda.is_available() else \"cpu\")\n",
        "net.cuda()\n",
        "for epoch in range(20):  # loop over the dataset multiple times\n",
        "\n",
        "    running_loss = 0.0\n",
        "    for i, data in enumerate(trainloader, 0):\n",
        "        # get the inputs; data is a list of [inputs, labels]\n",
        "        inputs, labels = data\n",
        "        labels = labels.squeeze()\n",
        "        inputs = inputs.cuda()\n",
        "        labels = labels.cuda()\n",
        "        \n",
        "        # zero the parameter gradients\n",
        "        optimizer.zero_grad()\n",
        "\n",
        "        # forward + backward + optimize\n",
        "        outputs = net(inputs)\n",
        "        outputs.cuda()\n",
        "        #print(labels,labels.shape)\n",
        "        loss = criterion(outputs, labels)\n",
        "        loss.backward()\n",
        "        optimizer.step()\n",
        "\n",
        "        # print statistics\n",
        "        running_loss += loss.item()\n",
        "        if i % 100 == 99:    # print every 100 mini-batches\n",
        "            print('[%d, %5d] loss: %.3f' %\n",
        "                  (epoch + 1, i + 1, running_loss / 2000))\n",
        "            acc = get_accuracy(net,testloader)\n",
        "            print(\"acc\" , acc)\n",
        "            running_loss = 0.0\n",
        "\n",
        "print('Finished Training')"
      ],
      "execution_count": 17,
      "outputs": [
        {
          "output_type": "stream",
          "text": [
            "device cuda\n",
            "[1,   100] loss: 0.114\n",
            "acc tensor(0.2385, device='cuda:0')\n",
            "[1,   200] loss: 0.064\n",
            "acc tensor(0.7043, device='cuda:0')\n",
            "[2,   100] loss: 0.029\n",
            "acc tensor(0.8187, device='cuda:0')\n",
            "[2,   200] loss: 0.026\n",
            "acc tensor(0.8056, device='cuda:0')\n",
            "[3,   100] loss: 0.023\n",
            "acc tensor(0.8460, device='cuda:0')\n",
            "[3,   200] loss: 0.022\n",
            "acc tensor(0.8450, device='cuda:0')\n",
            "[4,   100] loss: 0.020\n",
            "acc tensor(0.8605, device='cuda:0')\n",
            "[4,   200] loss: 0.021\n",
            "acc tensor(0.8626, device='cuda:0')\n",
            "[5,   100] loss: 0.020\n",
            "acc tensor(0.8415, device='cuda:0')\n",
            "[5,   200] loss: 0.019\n",
            "acc tensor(0.8586, device='cuda:0')\n",
            "[6,   100] loss: 0.019\n",
            "acc tensor(0.8688, device='cuda:0')\n",
            "[6,   200] loss: 0.018\n",
            "acc tensor(0.8585, device='cuda:0')\n",
            "[7,   100] loss: 0.018\n",
            "acc tensor(0.8505, device='cuda:0')\n",
            "[7,   200] loss: 0.018\n",
            "acc tensor(0.8742, device='cuda:0')\n",
            "[8,   100] loss: 0.017\n",
            "acc tensor(0.8718, device='cuda:0')\n",
            "[8,   200] loss: 0.018\n",
            "acc tensor(0.8722, device='cuda:0')\n",
            "[9,   100] loss: 0.017\n",
            "acc tensor(0.8668, device='cuda:0')\n",
            "[9,   200] loss: 0.018\n",
            "acc tensor(0.8763, device='cuda:0')\n",
            "[10,   100] loss: 0.017\n",
            "acc tensor(0.8608, device='cuda:0')\n",
            "[10,   200] loss: 0.017\n",
            "acc tensor(0.8612, device='cuda:0')\n",
            "[11,   100] loss: 0.017\n",
            "acc tensor(0.8655, device='cuda:0')\n",
            "[11,   200] loss: 0.017\n",
            "acc tensor(0.8674, device='cuda:0')\n",
            "[12,   100] loss: 0.016\n",
            "acc tensor(0.8625, device='cuda:0')\n",
            "[12,   200] loss: 0.017\n",
            "acc tensor(0.8714, device='cuda:0')\n",
            "[13,   100] loss: 0.016\n",
            "acc tensor(0.8771, device='cuda:0')\n",
            "[13,   200] loss: 0.016\n",
            "acc tensor(0.8622, device='cuda:0')\n",
            "[14,   100] loss: 0.016\n",
            "acc tensor(0.8771, device='cuda:0')\n",
            "[14,   200] loss: 0.016\n",
            "acc tensor(0.8752, device='cuda:0')\n",
            "[15,   100] loss: 0.016\n",
            "acc tensor(0.8763, device='cuda:0')\n",
            "[15,   200] loss: 0.016\n",
            "acc tensor(0.8795, device='cuda:0')\n",
            "[16,   100] loss: 0.016\n",
            "acc tensor(0.8776, device='cuda:0')\n",
            "[16,   200] loss: 0.016\n",
            "acc tensor(0.8727, device='cuda:0')\n",
            "[17,   100] loss: 0.015\n",
            "acc tensor(0.8712, device='cuda:0')\n",
            "[17,   200] loss: 0.016\n",
            "acc tensor(0.8632, device='cuda:0')\n",
            "[18,   100] loss: 0.015\n",
            "acc tensor(0.8745, device='cuda:0')\n",
            "[18,   200] loss: 0.015\n",
            "acc tensor(0.8790, device='cuda:0')\n",
            "[19,   100] loss: 0.015\n",
            "acc tensor(0.8729, device='cuda:0')\n",
            "[19,   200] loss: 0.016\n",
            "acc tensor(0.8795, device='cuda:0')\n",
            "[20,   100] loss: 0.015\n",
            "acc tensor(0.8600, device='cuda:0')\n",
            "[20,   200] loss: 0.015\n",
            "acc tensor(0.8785, device='cuda:0')\n",
            "Finished Training\n"
          ],
          "name": "stdout"
        }
      ]
    },
    {
      "cell_type": "code",
      "metadata": {
        "id": "GnQC7CcLWPXq",
        "colab_type": "code",
        "colab": {
          "base_uri": "https://localhost:8080/",
          "height": 35
        },
        "outputId": "32f82fe1-81a4-4c76-c064-8c63adad9700"
      },
      "source": [
        "get_accuracy(net,testloader)"
      ],
      "execution_count": 18,
      "outputs": [
        {
          "output_type": "execute_result",
          "data": {
            "text/plain": [
              "tensor(0.8771, device='cuda:0')"
            ]
          },
          "metadata": {
            "tags": []
          },
          "execution_count": 18
        }
      ]
    },
    {
      "cell_type": "code",
      "metadata": {
        "id": "cKPdCyWrWSzB",
        "colab_type": "code",
        "colab": {}
      },
      "source": [
        ""
      ],
      "execution_count": 0,
      "outputs": []
    }
  ]
}